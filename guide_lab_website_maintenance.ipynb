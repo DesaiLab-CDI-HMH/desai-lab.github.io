{
 "cells": [
  {
   "cell_type": "markdown",
   "id": "dc0fd096",
   "metadata": {},
   "source": [
    "# Guide for maintaing the lab website\n",
    "Github repo for the lab website: https://github.com/DesaiLab-CDI-HMH/desai-lab.github.io\n",
    "Local location: ```~/lab-website/desailab-site```\n",
    "- Follow the steps below for making updates to the site via pull, edit, add, push and commit.\n",
    "- Pull the latest branch:"
   ]
  },
  {
   "cell_type": "code",
   "execution_count": null,
   "id": "52f8fa4b",
   "metadata": {
    "vscode": {
     "languageId": "shellscript"
    }
   },
   "outputs": [],
   "source": [
    "git -C ~/lab-website/desailab-site pull --rebase origin main"
   ]
  },
  {
   "cell_type": "markdown",
   "id": "fd350d88",
   "metadata": {},
   "source": [
    "- Run locally"
   ]
  },
  {
   "cell_type": "code",
   "execution_count": null,
   "id": "5a3ec60b",
   "metadata": {
    "vscode": {
     "languageId": "shellscript"
    }
   },
   "outputs": [],
   "source": [
    "bundle exec jekyll serve"
   ]
  },
  {
   "cell_type": "markdown",
   "id": "828f5bfa",
   "metadata": {},
   "source": [
    "- browse Browse http://127.0.0.1:4000 to preview.\n",
    "- Make the edits.\n",
    "- Commit and push:"
   ]
  },
  {
   "cell_type": "code",
   "execution_count": null,
   "id": "384e5cc1",
   "metadata": {
    "vscode": {
     "languageId": "shellscript"
    }
   },
   "outputs": [],
   "source": [
    "git add .\n",
    "git commit -m \"Describe your change\"\n",
    "git push -u origin feature/<short-name>"
   ]
  },
  {
   "cell_type": "markdown",
   "id": "57d6a72c",
   "metadata": {},
   "source": [
    "## Python script for updating publications.\n",
    "- Below is the script. \n",
    "- For running, install ```pip install scholarly PyYAML``` and run ```python scripts/fetch_publications.py``` from the repo root.\n",
    "Alternatively, run the script as below from Jupyter notebook (after activating the ```.venv_lab_website```, which has the dependencies installed.)"
   ]
  }
 ],
 "metadata": {
  "kernelspec": {
   "display_name": "Python (venv_Lab.Website)",
   "language": "python",
   "name": "venv_lab_website"
  },
  "language_info": {
   "codemirror_mode": {
    "name": "ipython",
    "version": 3
   },
   "file_extension": ".py",
   "mimetype": "text/x-python",
   "name": "python",
   "nbconvert_exporter": "python",
   "pygments_lexer": "ipython3",
   "version": "3.13.3"
  }
 },
 "nbformat": 4,
 "nbformat_minor": 5
}
